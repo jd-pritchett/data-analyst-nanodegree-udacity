{
 "cells": [
  {
   "cell_type": "markdown",
   "metadata": {},
   "source": [
    "# Project: Investigating Movie Data\n",
    "\n",
    "## Table of Contents\n",
    "<ul>\n",
    "<li><a href=\"#intro\">Introduction</a></li>\n",
    "<li><a href=\"#wrangling\">Data Wrangling</a></li>\n",
    "<li><a href=\"#eda\">Exploratory Data Analysis</a></li>\n",
    "<li><a href=\"#conclusions\">Conclusions</a></li>\n",
    "</ul>"
   ]
  },
  {
   "cell_type": "markdown",
   "metadata": {},
   "source": [
    "\n",
    "<a id='intro'></a>\n",
    "## Introduction\n",
    "\n",
    ">I have chose to use the TMDb dataset for my analysis. This dataset contains information from over 10,000 films pulled from the TMDb database, and it contains a wide range of information for each movie that includes financial data, production details, movie genres, and critical reception among other things.  \n",
    "\n",
    ">There are so many questions that can be asked when investigating this dataset, but I will focus on four questions.  I will be looking to see if there are any variables that could potentially contribute to a higher voter rating, and I will be looking at the revenues, budget, month of release, production companies, actors, directors, genres, and run time to answer the following question:\n",
    "\n",
    ">1. How are the different numerical variables distributed?\n",
    ">2. Do any of the variables have correlations with vote_average?\n",
    ">3. Are there differences in ratings in different months?\n",
    ">4. What genre has the highest rating?"
   ]
  },
  {
   "cell_type": "code",
   "execution_count": 1,
   "metadata": {},
   "outputs": [],
   "source": [
    "#import different packages for analysis\n",
    "import pandas as pd\n",
    "import numpy as np\n",
    "import matplotlib.pyplot as plt\n",
    "import seaborn as sns\n",
    "%matplotlib inline"
   ]
  },
  {
   "cell_type": "markdown",
   "metadata": {},
   "source": [
    "<a id='wrangling'></a>\n",
    "## Data Wrangling\n",
    "\n",
    "> In this section of the report, the data is loaded and checked for cleanliness.  I then move on to trim and clean the dataset for analysis. \n",
    "\n",
    "### General Properties"
   ]
  },
  {
   "cell_type": "code",
   "execution_count": 2,
   "metadata": {},
   "outputs": [
    {
     "data": {
      "text/html": [
       "<div>\n",
       "<style scoped>\n",
       "    .dataframe tbody tr th:only-of-type {\n",
       "        vertical-align: middle;\n",
       "    }\n",
       "\n",
       "    .dataframe tbody tr th {\n",
       "        vertical-align: top;\n",
       "    }\n",
       "\n",
       "    .dataframe thead th {\n",
       "        text-align: right;\n",
       "    }\n",
       "</style>\n",
       "<table border=\"1\" class=\"dataframe\">\n",
       "  <thead>\n",
       "    <tr style=\"text-align: right;\">\n",
       "      <th></th>\n",
       "      <th>id</th>\n",
       "      <th>imdb_id</th>\n",
       "      <th>popularity</th>\n",
       "      <th>budget</th>\n",
       "      <th>revenue</th>\n",
       "      <th>original_title</th>\n",
       "      <th>cast</th>\n",
       "      <th>homepage</th>\n",
       "      <th>director</th>\n",
       "      <th>tagline</th>\n",
       "      <th>...</th>\n",
       "      <th>overview</th>\n",
       "      <th>runtime</th>\n",
       "      <th>genres</th>\n",
       "      <th>production_companies</th>\n",
       "      <th>release_date</th>\n",
       "      <th>vote_count</th>\n",
       "      <th>vote_average</th>\n",
       "      <th>release_year</th>\n",
       "      <th>budget_adj</th>\n",
       "      <th>revenue_adj</th>\n",
       "    </tr>\n",
       "  </thead>\n",
       "  <tbody>\n",
       "    <tr>\n",
       "      <th>0</th>\n",
       "      <td>135397</td>\n",
       "      <td>tt0369610</td>\n",
       "      <td>32.985763</td>\n",
       "      <td>150000000</td>\n",
       "      <td>1513528810</td>\n",
       "      <td>Jurassic World</td>\n",
       "      <td>Chris Pratt|Bryce Dallas Howard|Irrfan Khan|Vi...</td>\n",
       "      <td>http://www.jurassicworld.com/</td>\n",
       "      <td>Colin Trevorrow</td>\n",
       "      <td>The park is open.</td>\n",
       "      <td>...</td>\n",
       "      <td>Twenty-two years after the events of Jurassic ...</td>\n",
       "      <td>124</td>\n",
       "      <td>Action|Adventure|Science Fiction|Thriller</td>\n",
       "      <td>Universal Studios|Amblin Entertainment|Legenda...</td>\n",
       "      <td>6/9/15</td>\n",
       "      <td>5562</td>\n",
       "      <td>6.5</td>\n",
       "      <td>2015</td>\n",
       "      <td>1.379999e+08</td>\n",
       "      <td>1.392446e+09</td>\n",
       "    </tr>\n",
       "  </tbody>\n",
       "</table>\n",
       "<p>1 rows × 21 columns</p>\n",
       "</div>"
      ],
      "text/plain": [
       "       id    imdb_id  popularity     budget     revenue  original_title  \\\n",
       "0  135397  tt0369610   32.985763  150000000  1513528810  Jurassic World   \n",
       "\n",
       "                                                cast  \\\n",
       "0  Chris Pratt|Bryce Dallas Howard|Irrfan Khan|Vi...   \n",
       "\n",
       "                        homepage         director            tagline  ...  \\\n",
       "0  http://www.jurassicworld.com/  Colin Trevorrow  The park is open.  ...   \n",
       "\n",
       "                                            overview runtime  \\\n",
       "0  Twenty-two years after the events of Jurassic ...     124   \n",
       "\n",
       "                                      genres  \\\n",
       "0  Action|Adventure|Science Fiction|Thriller   \n",
       "\n",
       "                                production_companies release_date vote_count  \\\n",
       "0  Universal Studios|Amblin Entertainment|Legenda...       6/9/15       5562   \n",
       "\n",
       "   vote_average  release_year    budget_adj   revenue_adj  \n",
       "0           6.5          2015  1.379999e+08  1.392446e+09  \n",
       "\n",
       "[1 rows x 21 columns]"
      ]
     },
     "execution_count": 2,
     "metadata": {},
     "output_type": "execute_result"
    }
   ],
   "source": [
    "#load the dataset and get a first look at the dataframe\n",
    "df = pd.read_csv('tmdb-movies.csv')\n",
    "df.head(1)"
   ]
  },
  {
   "cell_type": "markdown",
   "metadata": {},
   "source": [
    "#### We can see that the data has been imported.  Right off the bat I can see that some of the columns will need to be deleted, and some of the columns will need to be split into separate rows."
   ]
  },
  {
   "cell_type": "code",
   "execution_count": 3,
   "metadata": {},
   "outputs": [
    {
     "name": "stdout",
     "output_type": "stream",
     "text": [
      "<class 'pandas.core.frame.DataFrame'>\n",
      "RangeIndex: 10866 entries, 0 to 10865\n",
      "Data columns (total 21 columns):\n",
      "id                      10866 non-null int64\n",
      "imdb_id                 10856 non-null object\n",
      "popularity              10866 non-null float64\n",
      "budget                  10866 non-null int64\n",
      "revenue                 10866 non-null int64\n",
      "original_title          10866 non-null object\n",
      "cast                    10790 non-null object\n",
      "homepage                2936 non-null object\n",
      "director                10822 non-null object\n",
      "tagline                 8042 non-null object\n",
      "keywords                9373 non-null object\n",
      "overview                10862 non-null object\n",
      "runtime                 10866 non-null int64\n",
      "genres                  10843 non-null object\n",
      "production_companies    9836 non-null object\n",
      "release_date            10866 non-null object\n",
      "vote_count              10866 non-null int64\n",
      "vote_average            10866 non-null float64\n",
      "release_year            10866 non-null int64\n",
      "budget_adj              10866 non-null float64\n",
      "revenue_adj             10866 non-null float64\n",
      "dtypes: float64(4), int64(6), object(11)\n",
      "memory usage: 1.7+ MB\n"
     ]
    }
   ],
   "source": [
    "#identify different data types\n",
    "df.info()"
   ]
  },
  {
   "cell_type": "markdown",
   "metadata": {},
   "source": [
    "#### Another thing to note is that the release_date column will need to be changed to a datetime data type."
   ]
  },
  {
   "cell_type": "code",
   "execution_count": 4,
   "metadata": {},
   "outputs": [
    {
     "data": {
      "text/plain": [
       "id                         0\n",
       "imdb_id                   10\n",
       "popularity                 0\n",
       "budget                     0\n",
       "revenue                    0\n",
       "original_title             0\n",
       "cast                      76\n",
       "homepage                7930\n",
       "director                  44\n",
       "tagline                 2824\n",
       "keywords                1493\n",
       "overview                   4\n",
       "runtime                    0\n",
       "genres                    23\n",
       "production_companies    1030\n",
       "release_date               0\n",
       "vote_count                 0\n",
       "vote_average               0\n",
       "release_year               0\n",
       "budget_adj                 0\n",
       "revenue_adj                0\n",
       "dtype: int64"
      ]
     },
     "execution_count": 4,
     "metadata": {},
     "output_type": "execute_result"
    }
   ],
   "source": [
    "#check for null values\n",
    "df.isnull().sum()"
   ]
  },
  {
   "cell_type": "markdown",
   "metadata": {},
   "source": [
    "#### There are quite a few null values that need to be addressed as well."
   ]
  },
  {
   "cell_type": "markdown",
   "metadata": {},
   "source": [
    "### Data Cleaning \n",
    "> There are several steps that need to be taken before being able to look at the relationship between the different variables and the user rating.  After assessing the data, we can see that some columns need to be dropped, some data in the columns needs to be split and moved to a separate row, and some null values need to be addressed.  The dataframe will also need to be sorted by different values to look at the relationships between the variables.  The following cells document this process. \n"
   ]
  },
  {
   "cell_type": "code",
   "execution_count": 5,
   "metadata": {},
   "outputs": [
    {
     "data": {
      "text/html": [
       "<div>\n",
       "<style scoped>\n",
       "    .dataframe tbody tr th:only-of-type {\n",
       "        vertical-align: middle;\n",
       "    }\n",
       "\n",
       "    .dataframe tbody tr th {\n",
       "        vertical-align: top;\n",
       "    }\n",
       "\n",
       "    .dataframe thead th {\n",
       "        text-align: right;\n",
       "    }\n",
       "</style>\n",
       "<table border=\"1\" class=\"dataframe\">\n",
       "  <thead>\n",
       "    <tr style=\"text-align: right;\">\n",
       "      <th></th>\n",
       "      <th>id</th>\n",
       "      <th>original_title</th>\n",
       "      <th>cast</th>\n",
       "      <th>director</th>\n",
       "      <th>runtime</th>\n",
       "      <th>genres</th>\n",
       "      <th>release_date</th>\n",
       "      <th>vote_count</th>\n",
       "      <th>vote_average</th>\n",
       "      <th>budget_adj</th>\n",
       "      <th>revenue_adj</th>\n",
       "    </tr>\n",
       "  </thead>\n",
       "  <tbody>\n",
       "    <tr>\n",
       "      <th>0</th>\n",
       "      <td>135397</td>\n",
       "      <td>Jurassic World</td>\n",
       "      <td>Chris Pratt|Bryce Dallas Howard|Irrfan Khan|Vi...</td>\n",
       "      <td>Colin Trevorrow</td>\n",
       "      <td>124</td>\n",
       "      <td>Action|Adventure|Science Fiction|Thriller</td>\n",
       "      <td>6/9/15</td>\n",
       "      <td>5562</td>\n",
       "      <td>6.5</td>\n",
       "      <td>1.379999e+08</td>\n",
       "      <td>1.392446e+09</td>\n",
       "    </tr>\n",
       "  </tbody>\n",
       "</table>\n",
       "</div>"
      ],
      "text/plain": [
       "       id  original_title                                               cast  \\\n",
       "0  135397  Jurassic World  Chris Pratt|Bryce Dallas Howard|Irrfan Khan|Vi...   \n",
       "\n",
       "          director  runtime                                     genres  \\\n",
       "0  Colin Trevorrow      124  Action|Adventure|Science Fiction|Thriller   \n",
       "\n",
       "  release_date  vote_count  vote_average    budget_adj   revenue_adj  \n",
       "0       6/9/15        5562           6.5  1.379999e+08  1.392446e+09  "
      ]
     },
     "execution_count": 5,
     "metadata": {},
     "output_type": "execute_result"
    }
   ],
   "source": [
    "##remove columns that will not be used\n",
    "df.drop(['production_companies', 'imdb_id', 'popularity', 'keywords', 'budget', 'revenue', 'homepage', 'tagline', 'overview', 'release_year'], axis = 1, inplace = True)\n",
    "df.head(1)"
   ]
  },
  {
   "cell_type": "markdown",
   "metadata": {},
   "source": [
    "#### We can see that several columns have been revoved that will not be factored into the analysis."
   ]
  },
  {
   "cell_type": "code",
   "execution_count": 6,
   "metadata": {},
   "outputs": [],
   "source": [
    "#drop null values\n",
    "df.dropna(inplace = True)"
   ]
  },
  {
   "cell_type": "markdown",
   "metadata": {},
   "source": [
    "#### To address the null values, I dropped them from the dataset.  We could have used the mean or median values to replace the null values, but the dataset is large enough that this is not necessary."
   ]
  },
  {
   "cell_type": "code",
   "execution_count": 7,
   "metadata": {},
   "outputs": [
    {
     "data": {
      "text/plain": [
       "id                0\n",
       "original_title    0\n",
       "cast              0\n",
       "director          0\n",
       "runtime           0\n",
       "genres            0\n",
       "release_date      0\n",
       "vote_count        0\n",
       "vote_average      0\n",
       "budget_adj        0\n",
       "revenue_adj       0\n",
       "dtype: int64"
      ]
     },
     "execution_count": 7,
     "metadata": {},
     "output_type": "execute_result"
    }
   ],
   "source": [
    "#confirm null values were dropped\n",
    "df.isnull().sum()"
   ]
  },
  {
   "cell_type": "markdown",
   "metadata": {},
   "source": [
    "#### We can see that the nulls have been dropped from the dataset."
   ]
  },
  {
   "cell_type": "code",
   "execution_count": 8,
   "metadata": {},
   "outputs": [
    {
     "data": {
      "text/html": [
       "<div>\n",
       "<style scoped>\n",
       "    .dataframe tbody tr th:only-of-type {\n",
       "        vertical-align: middle;\n",
       "    }\n",
       "\n",
       "    .dataframe tbody tr th {\n",
       "        vertical-align: top;\n",
       "    }\n",
       "\n",
       "    .dataframe thead th {\n",
       "        text-align: right;\n",
       "    }\n",
       "</style>\n",
       "<table border=\"1\" class=\"dataframe\">\n",
       "  <thead>\n",
       "    <tr style=\"text-align: right;\">\n",
       "      <th></th>\n",
       "      <th>id</th>\n",
       "      <th>original_title</th>\n",
       "      <th>director</th>\n",
       "      <th>runtime</th>\n",
       "      <th>release_date</th>\n",
       "      <th>vote_count</th>\n",
       "      <th>vote_average</th>\n",
       "      <th>budget_adj</th>\n",
       "      <th>revenue_adj</th>\n",
       "      <th>genres</th>\n",
       "      <th>cast</th>\n",
       "    </tr>\n",
       "  </thead>\n",
       "  <tbody>\n",
       "    <tr>\n",
       "      <th>0</th>\n",
       "      <td>135397</td>\n",
       "      <td>Jurassic World</td>\n",
       "      <td>Colin Trevorrow</td>\n",
       "      <td>124</td>\n",
       "      <td>6/9/15</td>\n",
       "      <td>5562</td>\n",
       "      <td>6.5</td>\n",
       "      <td>1.379999e+08</td>\n",
       "      <td>1.392446e+09</td>\n",
       "      <td>Action</td>\n",
       "      <td>Chris Pratt</td>\n",
       "    </tr>\n",
       "  </tbody>\n",
       "</table>\n",
       "</div>"
      ],
      "text/plain": [
       "       id  original_title         director  runtime release_date  vote_count  \\\n",
       "0  135397  Jurassic World  Colin Trevorrow      124       6/9/15        5562   \n",
       "\n",
       "   vote_average    budget_adj   revenue_adj  genres         cast  \n",
       "0           6.5  1.379999e+08  1.392446e+09  Action  Chris Pratt  "
      ]
     },
     "execution_count": 8,
     "metadata": {},
     "output_type": "execute_result"
    }
   ],
   "source": [
    "#splitting the genres column into multiple columns \n",
    "#referred to this resource for splitting the columns into rows: https://programmer.ink/think/pandas-how-do-i-split-text-in-a-column-into-multiple-lines-python.html\n",
    "split_col = ['genres', 'cast']\n",
    "\n",
    "for col in split_col:\n",
    "    df = df.drop(col, axis = 1).join(df[col].str.split('|', expand = True).stack().reset_index(level = 1, drop = True).rename(col))\n",
    "df.head(1)"
   ]
  },
  {
   "cell_type": "markdown",
   "metadata": {},
   "source": [
    "#### We can see that the cast and genres columns have been split into multiple rows."
   ]
  },
  {
   "cell_type": "markdown",
   "metadata": {},
   "source": [
    "#### This is a summary of the data.  This will help us add divide some of the variables into different classes and add them to new columns."
   ]
  },
  {
   "cell_type": "code",
   "execution_count": 9,
   "metadata": {},
   "outputs": [
    {
     "data": {
      "text/html": [
       "<div>\n",
       "<style scoped>\n",
       "    .dataframe tbody tr th:only-of-type {\n",
       "        vertical-align: middle;\n",
       "    }\n",
       "\n",
       "    .dataframe tbody tr th {\n",
       "        vertical-align: top;\n",
       "    }\n",
       "\n",
       "    .dataframe thead th {\n",
       "        text-align: right;\n",
       "    }\n",
       "</style>\n",
       "<table border=\"1\" class=\"dataframe\">\n",
       "  <thead>\n",
       "    <tr style=\"text-align: right;\">\n",
       "      <th></th>\n",
       "      <th>genres</th>\n",
       "      <th>id</th>\n",
       "      <th>runtime</th>\n",
       "      <th>vote_count</th>\n",
       "      <th>vote_average</th>\n",
       "      <th>budget_adj</th>\n",
       "      <th>revenue_adj</th>\n",
       "    </tr>\n",
       "  </thead>\n",
       "  <tbody>\n",
       "    <tr>\n",
       "      <th>0</th>\n",
       "      <td>Action</td>\n",
       "      <td>47185.895407</td>\n",
       "      <td>105.918483</td>\n",
       "      <td>398.773082</td>\n",
       "      <td>5.805034</td>\n",
       "      <td>3.459645e+07</td>\n",
       "      <td>9.459723e+07</td>\n",
       "    </tr>\n",
       "    <tr>\n",
       "      <th>1</th>\n",
       "      <td>Adventure</td>\n",
       "      <td>44429.846227</td>\n",
       "      <td>106.427375</td>\n",
       "      <td>509.430306</td>\n",
       "      <td>5.921036</td>\n",
       "      <td>4.510776e+07</td>\n",
       "      <td>1.409027e+08</td>\n",
       "    </tr>\n",
       "    <tr>\n",
       "      <th>2</th>\n",
       "      <td>Animation</td>\n",
       "      <td>65172.523355</td>\n",
       "      <td>75.063009</td>\n",
       "      <td>370.764460</td>\n",
       "      <td>6.326466</td>\n",
       "      <td>3.232023e+07</td>\n",
       "      <td>1.082803e+08</td>\n",
       "    </tr>\n",
       "    <tr>\n",
       "      <th>3</th>\n",
       "      <td>Comedy</td>\n",
       "      <td>48171.474076</td>\n",
       "      <td>98.061744</td>\n",
       "      <td>201.103256</td>\n",
       "      <td>5.898757</td>\n",
       "      <td>1.907266e+07</td>\n",
       "      <td>5.661922e+07</td>\n",
       "    </tr>\n",
       "    <tr>\n",
       "      <th>4</th>\n",
       "      <td>Crime</td>\n",
       "      <td>45056.168046</td>\n",
       "      <td>107.101914</td>\n",
       "      <td>268.565866</td>\n",
       "      <td>6.096524</td>\n",
       "      <td>2.261355e+07</td>\n",
       "      <td>5.842044e+07</td>\n",
       "    </tr>\n",
       "    <tr>\n",
       "      <th>5</th>\n",
       "      <td>Documentary</td>\n",
       "      <td>115979.661005</td>\n",
       "      <td>100.132133</td>\n",
       "      <td>40.153193</td>\n",
       "      <td>6.897622</td>\n",
       "      <td>9.180000e+05</td>\n",
       "      <td>3.293299e+06</td>\n",
       "    </tr>\n",
       "    <tr>\n",
       "      <th>6</th>\n",
       "      <td>Drama</td>\n",
       "      <td>55101.864770</td>\n",
       "      <td>110.543471</td>\n",
       "      <td>194.651204</td>\n",
       "      <td>6.120157</td>\n",
       "      <td>1.686209e+07</td>\n",
       "      <td>4.526788e+07</td>\n",
       "    </tr>\n",
       "    <tr>\n",
       "      <th>7</th>\n",
       "      <td>Family</td>\n",
       "      <td>48205.100846</td>\n",
       "      <td>91.858130</td>\n",
       "      <td>306.903723</td>\n",
       "      <td>5.962798</td>\n",
       "      <td>3.070059e+07</td>\n",
       "      <td>1.000522e+08</td>\n",
       "    </tr>\n",
       "    <tr>\n",
       "      <th>8</th>\n",
       "      <td>Fantasy</td>\n",
       "      <td>44080.600572</td>\n",
       "      <td>101.031419</td>\n",
       "      <td>425.026131</td>\n",
       "      <td>5.853437</td>\n",
       "      <td>3.949370e+07</td>\n",
       "      <td>1.160812e+08</td>\n",
       "    </tr>\n",
       "    <tr>\n",
       "      <th>9</th>\n",
       "      <td>Foreign</td>\n",
       "      <td>31726.127133</td>\n",
       "      <td>108.021944</td>\n",
       "      <td>16.893069</td>\n",
       "      <td>5.925566</td>\n",
       "      <td>2.585174e+06</td>\n",
       "      <td>1.843471e+06</td>\n",
       "    </tr>\n",
       "    <tr>\n",
       "      <th>10</th>\n",
       "      <td>History</td>\n",
       "      <td>48504.661944</td>\n",
       "      <td>135.858914</td>\n",
       "      <td>190.334711</td>\n",
       "      <td>6.395927</td>\n",
       "      <td>2.946962e+07</td>\n",
       "      <td>5.080864e+07</td>\n",
       "    </tr>\n",
       "    <tr>\n",
       "      <th>11</th>\n",
       "      <td>Horror</td>\n",
       "      <td>67534.977075</td>\n",
       "      <td>96.037037</td>\n",
       "      <td>131.520927</td>\n",
       "      <td>5.381920</td>\n",
       "      <td>9.370542e+06</td>\n",
       "      <td>2.729842e+07</td>\n",
       "    </tr>\n",
       "    <tr>\n",
       "      <th>12</th>\n",
       "      <td>Music</td>\n",
       "      <td>70547.667089</td>\n",
       "      <td>105.990778</td>\n",
       "      <td>145.068716</td>\n",
       "      <td>6.340271</td>\n",
       "      <td>1.664295e+07</td>\n",
       "      <td>5.921675e+07</td>\n",
       "    </tr>\n",
       "    <tr>\n",
       "      <th>13</th>\n",
       "      <td>Mystery</td>\n",
       "      <td>54439.344823</td>\n",
       "      <td>107.067548</td>\n",
       "      <td>246.100336</td>\n",
       "      <td>5.953469</td>\n",
       "      <td>2.080114e+07</td>\n",
       "      <td>5.371007e+07</td>\n",
       "    </tr>\n",
       "    <tr>\n",
       "      <th>14</th>\n",
       "      <td>Romance</td>\n",
       "      <td>47190.441713</td>\n",
       "      <td>107.448626</td>\n",
       "      <td>172.257935</td>\n",
       "      <td>6.035721</td>\n",
       "      <td>1.683790e+07</td>\n",
       "      <td>5.083177e+07</td>\n",
       "    </tr>\n",
       "    <tr>\n",
       "      <th>15</th>\n",
       "      <td>Science Fiction</td>\n",
       "      <td>54571.827109</td>\n",
       "      <td>100.675066</td>\n",
       "      <td>458.727414</td>\n",
       "      <td>5.667667</td>\n",
       "      <td>3.242575e+07</td>\n",
       "      <td>9.434469e+07</td>\n",
       "    </tr>\n",
       "    <tr>\n",
       "      <th>16</th>\n",
       "      <td>TV Movie</td>\n",
       "      <td>103038.227786</td>\n",
       "      <td>94.348268</td>\n",
       "      <td>38.079819</td>\n",
       "      <td>5.653012</td>\n",
       "      <td>3.431485e+05</td>\n",
       "      <td>4.396770e+05</td>\n",
       "    </tr>\n",
       "    <tr>\n",
       "      <th>17</th>\n",
       "      <td>Thriller</td>\n",
       "      <td>54889.083582</td>\n",
       "      <td>104.321513</td>\n",
       "      <td>273.887251</td>\n",
       "      <td>5.788891</td>\n",
       "      <td>2.296277e+07</td>\n",
       "      <td>6.090233e+07</td>\n",
       "    </tr>\n",
       "    <tr>\n",
       "      <th>18</th>\n",
       "      <td>War</td>\n",
       "      <td>49500.091927</td>\n",
       "      <td>129.647457</td>\n",
       "      <td>272.840177</td>\n",
       "      <td>6.284718</td>\n",
       "      <td>3.160469e+07</td>\n",
       "      <td>7.284795e+07</td>\n",
       "    </tr>\n",
       "    <tr>\n",
       "      <th>19</th>\n",
       "      <td>Western</td>\n",
       "      <td>40908.037326</td>\n",
       "      <td>116.133306</td>\n",
       "      <td>218.368335</td>\n",
       "      <td>6.058039</td>\n",
       "      <td>2.972357e+07</td>\n",
       "      <td>5.258028e+07</td>\n",
       "    </tr>\n",
       "  </tbody>\n",
       "</table>\n",
       "</div>"
      ],
      "text/plain": [
       "             genres             id     runtime  vote_count  vote_average  \\\n",
       "0            Action   47185.895407  105.918483  398.773082      5.805034   \n",
       "1         Adventure   44429.846227  106.427375  509.430306      5.921036   \n",
       "2         Animation   65172.523355   75.063009  370.764460      6.326466   \n",
       "3            Comedy   48171.474076   98.061744  201.103256      5.898757   \n",
       "4             Crime   45056.168046  107.101914  268.565866      6.096524   \n",
       "5       Documentary  115979.661005  100.132133   40.153193      6.897622   \n",
       "6             Drama   55101.864770  110.543471  194.651204      6.120157   \n",
       "7            Family   48205.100846   91.858130  306.903723      5.962798   \n",
       "8           Fantasy   44080.600572  101.031419  425.026131      5.853437   \n",
       "9           Foreign   31726.127133  108.021944   16.893069      5.925566   \n",
       "10          History   48504.661944  135.858914  190.334711      6.395927   \n",
       "11           Horror   67534.977075   96.037037  131.520927      5.381920   \n",
       "12            Music   70547.667089  105.990778  145.068716      6.340271   \n",
       "13          Mystery   54439.344823  107.067548  246.100336      5.953469   \n",
       "14          Romance   47190.441713  107.448626  172.257935      6.035721   \n",
       "15  Science Fiction   54571.827109  100.675066  458.727414      5.667667   \n",
       "16         TV Movie  103038.227786   94.348268   38.079819      5.653012   \n",
       "17         Thriller   54889.083582  104.321513  273.887251      5.788891   \n",
       "18              War   49500.091927  129.647457  272.840177      6.284718   \n",
       "19          Western   40908.037326  116.133306  218.368335      6.058039   \n",
       "\n",
       "      budget_adj   revenue_adj  \n",
       "0   3.459645e+07  9.459723e+07  \n",
       "1   4.510776e+07  1.409027e+08  \n",
       "2   3.232023e+07  1.082803e+08  \n",
       "3   1.907266e+07  5.661922e+07  \n",
       "4   2.261355e+07  5.842044e+07  \n",
       "5   9.180000e+05  3.293299e+06  \n",
       "6   1.686209e+07  4.526788e+07  \n",
       "7   3.070059e+07  1.000522e+08  \n",
       "8   3.949370e+07  1.160812e+08  \n",
       "9   2.585174e+06  1.843471e+06  \n",
       "10  2.946962e+07  5.080864e+07  \n",
       "11  9.370542e+06  2.729842e+07  \n",
       "12  1.664295e+07  5.921675e+07  \n",
       "13  2.080114e+07  5.371007e+07  \n",
       "14  1.683790e+07  5.083177e+07  \n",
       "15  3.242575e+07  9.434469e+07  \n",
       "16  3.431485e+05  4.396770e+05  \n",
       "17  2.296277e+07  6.090233e+07  \n",
       "18  3.160469e+07  7.284795e+07  \n",
       "19  2.972357e+07  5.258028e+07  "
      ]
     },
     "execution_count": 9,
     "metadata": {},
     "output_type": "execute_result"
    }
   ],
   "source": [
    "# sort by genre and save to a dataframe\n",
    "genres = df.groupby(df['genres']).mean()\n",
    "genres = genres.reset_index()\n",
    "genres"
   ]
  },
  {
   "cell_type": "markdown",
   "metadata": {},
   "source": [
    "#### We now have a new data frame with mean values for each variable sorted by genre."
   ]
  },
  {
   "cell_type": "code",
   "execution_count": 10,
   "metadata": {},
   "outputs": [
    {
     "name": "stdout",
     "output_type": "stream",
     "text": [
      "<class 'pandas.core.frame.DataFrame'>\n",
      "Int64Index: 394256 entries, 0 to 10865\n",
      "Data columns (total 11 columns):\n",
      "id                394256 non-null int64\n",
      "original_title    394256 non-null object\n",
      "director          394256 non-null object\n",
      "runtime           394256 non-null int64\n",
      "release_date      394256 non-null datetime64[ns]\n",
      "vote_count        394256 non-null int64\n",
      "vote_average      394256 non-null float64\n",
      "budget_adj        394256 non-null float64\n",
      "revenue_adj       394256 non-null float64\n",
      "genres            394256 non-null object\n",
      "cast              394256 non-null object\n",
      "dtypes: datetime64[ns](1), float64(3), int64(3), object(4)\n",
      "memory usage: 36.1+ MB\n"
     ]
    }
   ],
   "source": [
    "# change the data type of the release_date column to datetime \n",
    "df['release_date'] = pd.to_datetime(df['release_date'], format = '%m/%d/%y')\n",
    "df.info()"
   ]
  },
  {
   "cell_type": "markdown",
   "metadata": {},
   "source": [
    "#### We can see that the release_date has been changed to a datetime data type."
   ]
  },
  {
   "cell_type": "code",
   "execution_count": 11,
   "metadata": {},
   "outputs": [
    {
     "data": {
      "text/html": [
       "<div>\n",
       "<style scoped>\n",
       "    .dataframe tbody tr th:only-of-type {\n",
       "        vertical-align: middle;\n",
       "    }\n",
       "\n",
       "    .dataframe tbody tr th {\n",
       "        vertical-align: top;\n",
       "    }\n",
       "\n",
       "    .dataframe thead th {\n",
       "        text-align: right;\n",
       "    }\n",
       "</style>\n",
       "<table border=\"1\" class=\"dataframe\">\n",
       "  <thead>\n",
       "    <tr style=\"text-align: right;\">\n",
       "      <th></th>\n",
       "      <th>id</th>\n",
       "      <th>original_title</th>\n",
       "      <th>director</th>\n",
       "      <th>runtime</th>\n",
       "      <th>release_date</th>\n",
       "      <th>vote_count</th>\n",
       "      <th>vote_average</th>\n",
       "      <th>budget_adj</th>\n",
       "      <th>revenue_adj</th>\n",
       "      <th>genres</th>\n",
       "      <th>cast</th>\n",
       "      <th>month</th>\n",
       "    </tr>\n",
       "  </thead>\n",
       "  <tbody>\n",
       "    <tr>\n",
       "      <th>0</th>\n",
       "      <td>135397</td>\n",
       "      <td>Jurassic World</td>\n",
       "      <td>Colin Trevorrow</td>\n",
       "      <td>124</td>\n",
       "      <td>2015-06-09</td>\n",
       "      <td>5562</td>\n",
       "      <td>6.5</td>\n",
       "      <td>1.379999e+08</td>\n",
       "      <td>1.392446e+09</td>\n",
       "      <td>Action</td>\n",
       "      <td>Chris Pratt</td>\n",
       "      <td>6</td>\n",
       "    </tr>\n",
       "    <tr>\n",
       "      <th>0</th>\n",
       "      <td>135397</td>\n",
       "      <td>Jurassic World</td>\n",
       "      <td>Colin Trevorrow</td>\n",
       "      <td>124</td>\n",
       "      <td>2015-06-09</td>\n",
       "      <td>5562</td>\n",
       "      <td>6.5</td>\n",
       "      <td>1.379999e+08</td>\n",
       "      <td>1.392446e+09</td>\n",
       "      <td>Action</td>\n",
       "      <td>Bryce Dallas Howard</td>\n",
       "      <td>6</td>\n",
       "    </tr>\n",
       "    <tr>\n",
       "      <th>0</th>\n",
       "      <td>135397</td>\n",
       "      <td>Jurassic World</td>\n",
       "      <td>Colin Trevorrow</td>\n",
       "      <td>124</td>\n",
       "      <td>2015-06-09</td>\n",
       "      <td>5562</td>\n",
       "      <td>6.5</td>\n",
       "      <td>1.379999e+08</td>\n",
       "      <td>1.392446e+09</td>\n",
       "      <td>Action</td>\n",
       "      <td>Irrfan Khan</td>\n",
       "      <td>6</td>\n",
       "    </tr>\n",
       "    <tr>\n",
       "      <th>0</th>\n",
       "      <td>135397</td>\n",
       "      <td>Jurassic World</td>\n",
       "      <td>Colin Trevorrow</td>\n",
       "      <td>124</td>\n",
       "      <td>2015-06-09</td>\n",
       "      <td>5562</td>\n",
       "      <td>6.5</td>\n",
       "      <td>1.379999e+08</td>\n",
       "      <td>1.392446e+09</td>\n",
       "      <td>Action</td>\n",
       "      <td>Vincent D'Onofrio</td>\n",
       "      <td>6</td>\n",
       "    </tr>\n",
       "    <tr>\n",
       "      <th>0</th>\n",
       "      <td>135397</td>\n",
       "      <td>Jurassic World</td>\n",
       "      <td>Colin Trevorrow</td>\n",
       "      <td>124</td>\n",
       "      <td>2015-06-09</td>\n",
       "      <td>5562</td>\n",
       "      <td>6.5</td>\n",
       "      <td>1.379999e+08</td>\n",
       "      <td>1.392446e+09</td>\n",
       "      <td>Action</td>\n",
       "      <td>Nick Robinson</td>\n",
       "      <td>6</td>\n",
       "    </tr>\n",
       "  </tbody>\n",
       "</table>\n",
       "</div>"
      ],
      "text/plain": [
       "       id  original_title         director  runtime release_date  vote_count  \\\n",
       "0  135397  Jurassic World  Colin Trevorrow      124   2015-06-09        5562   \n",
       "0  135397  Jurassic World  Colin Trevorrow      124   2015-06-09        5562   \n",
       "0  135397  Jurassic World  Colin Trevorrow      124   2015-06-09        5562   \n",
       "0  135397  Jurassic World  Colin Trevorrow      124   2015-06-09        5562   \n",
       "0  135397  Jurassic World  Colin Trevorrow      124   2015-06-09        5562   \n",
       "\n",
       "   vote_average    budget_adj   revenue_adj  genres                 cast  \\\n",
       "0           6.5  1.379999e+08  1.392446e+09  Action          Chris Pratt   \n",
       "0           6.5  1.379999e+08  1.392446e+09  Action  Bryce Dallas Howard   \n",
       "0           6.5  1.379999e+08  1.392446e+09  Action          Irrfan Khan   \n",
       "0           6.5  1.379999e+08  1.392446e+09  Action    Vincent D'Onofrio   \n",
       "0           6.5  1.379999e+08  1.392446e+09  Action        Nick Robinson   \n",
       "\n",
       "   month  \n",
       "0      6  \n",
       "0      6  \n",
       "0      6  \n",
       "0      6  \n",
       "0      6  "
      ]
     },
     "execution_count": 11,
     "metadata": {},
     "output_type": "execute_result"
    }
   ],
   "source": [
    "# extract month from release_date column \n",
    "# used the following link for help: https://www.interviewqs.com/ddi_code_snippets/extract_month_year_pandas\n",
    "df['month'] = pd.DatetimeIndex(df['release_date']).month\n",
    "df.head()"
   ]
  },
  {
   "cell_type": "markdown",
   "metadata": {},
   "source": [
    "#### We have extracted the month from the release_date column and added it as a new column to sort by month later in the analysis."
   ]
  },
  {
   "cell_type": "code",
   "execution_count": 12,
   "metadata": {},
   "outputs": [
    {
     "data": {
      "text/html": [
       "<div>\n",
       "<style scoped>\n",
       "    .dataframe tbody tr th:only-of-type {\n",
       "        vertical-align: middle;\n",
       "    }\n",
       "\n",
       "    .dataframe tbody tr th {\n",
       "        vertical-align: top;\n",
       "    }\n",
       "\n",
       "    .dataframe thead th {\n",
       "        text-align: right;\n",
       "    }\n",
       "</style>\n",
       "<table border=\"1\" class=\"dataframe\">\n",
       "  <thead>\n",
       "    <tr style=\"text-align: right;\">\n",
       "      <th></th>\n",
       "      <th>id</th>\n",
       "      <th>runtime</th>\n",
       "      <th>vote_count</th>\n",
       "      <th>vote_average</th>\n",
       "      <th>budget_adj</th>\n",
       "      <th>revenue_adj</th>\n",
       "      <th>month</th>\n",
       "    </tr>\n",
       "    <tr>\n",
       "      <th>month</th>\n",
       "      <th></th>\n",
       "      <th></th>\n",
       "      <th></th>\n",
       "      <th></th>\n",
       "      <th></th>\n",
       "      <th></th>\n",
       "      <th></th>\n",
       "    </tr>\n",
       "  </thead>\n",
       "  <tbody>\n",
       "    <tr>\n",
       "      <th>1</th>\n",
       "      <td>47602.83</td>\n",
       "      <td>101.03</td>\n",
       "      <td>162.15</td>\n",
       "      <td>5.81</td>\n",
       "      <td>9986382.28</td>\n",
       "      <td>2.640603e+07</td>\n",
       "      <td>1.0</td>\n",
       "    </tr>\n",
       "    <tr>\n",
       "      <th>2</th>\n",
       "      <td>47809.17</td>\n",
       "      <td>103.60</td>\n",
       "      <td>200.34</td>\n",
       "      <td>5.88</td>\n",
       "      <td>18735859.73</td>\n",
       "      <td>3.843826e+07</td>\n",
       "      <td>2.0</td>\n",
       "    </tr>\n",
       "    <tr>\n",
       "      <th>3</th>\n",
       "      <td>51885.05</td>\n",
       "      <td>103.58</td>\n",
       "      <td>280.75</td>\n",
       "      <td>5.91</td>\n",
       "      <td>22250149.10</td>\n",
       "      <td>6.597386e+07</td>\n",
       "      <td>3.0</td>\n",
       "    </tr>\n",
       "    <tr>\n",
       "      <th>4</th>\n",
       "      <td>47670.84</td>\n",
       "      <td>102.13</td>\n",
       "      <td>239.07</td>\n",
       "      <td>5.81</td>\n",
       "      <td>21325055.87</td>\n",
       "      <td>5.453006e+07</td>\n",
       "      <td>4.0</td>\n",
       "    </tr>\n",
       "    <tr>\n",
       "      <th>5</th>\n",
       "      <td>48061.62</td>\n",
       "      <td>108.27</td>\n",
       "      <td>402.74</td>\n",
       "      <td>5.94</td>\n",
       "      <td>33139312.99</td>\n",
       "      <td>1.073974e+08</td>\n",
       "      <td>5.0</td>\n",
       "    </tr>\n",
       "    <tr>\n",
       "      <th>6</th>\n",
       "      <td>46123.75</td>\n",
       "      <td>104.87</td>\n",
       "      <td>421.71</td>\n",
       "      <td>5.97</td>\n",
       "      <td>39118437.47</td>\n",
       "      <td>1.331402e+08</td>\n",
       "      <td>6.0</td>\n",
       "    </tr>\n",
       "    <tr>\n",
       "      <th>7</th>\n",
       "      <td>50696.04</td>\n",
       "      <td>103.13</td>\n",
       "      <td>394.04</td>\n",
       "      <td>5.88</td>\n",
       "      <td>32863317.85</td>\n",
       "      <td>1.026040e+08</td>\n",
       "      <td>7.0</td>\n",
       "    </tr>\n",
       "    <tr>\n",
       "      <th>8</th>\n",
       "      <td>57742.64</td>\n",
       "      <td>100.68</td>\n",
       "      <td>194.24</td>\n",
       "      <td>5.83</td>\n",
       "      <td>18696110.55</td>\n",
       "      <td>4.358289e+07</td>\n",
       "      <td>8.0</td>\n",
       "    </tr>\n",
       "    <tr>\n",
       "      <th>9</th>\n",
       "      <td>58841.49</td>\n",
       "      <td>103.64</td>\n",
       "      <td>192.66</td>\n",
       "      <td>6.06</td>\n",
       "      <td>15185905.45</td>\n",
       "      <td>3.145159e+07</td>\n",
       "      <td>9.0</td>\n",
       "    </tr>\n",
       "    <tr>\n",
       "      <th>10</th>\n",
       "      <td>61253.98</td>\n",
       "      <td>101.92</td>\n",
       "      <td>224.14</td>\n",
       "      <td>5.93</td>\n",
       "      <td>20249279.19</td>\n",
       "      <td>4.449576e+07</td>\n",
       "      <td>10.0</td>\n",
       "    </tr>\n",
       "    <tr>\n",
       "      <th>11</th>\n",
       "      <td>53600.25</td>\n",
       "      <td>101.69</td>\n",
       "      <td>343.30</td>\n",
       "      <td>5.98</td>\n",
       "      <td>32260584.17</td>\n",
       "      <td>9.676947e+07</td>\n",
       "      <td>11.0</td>\n",
       "    </tr>\n",
       "    <tr>\n",
       "      <th>12</th>\n",
       "      <td>50275.79</td>\n",
       "      <td>111.77</td>\n",
       "      <td>304.30</td>\n",
       "      <td>6.12</td>\n",
       "      <td>31778426.23</td>\n",
       "      <td>1.017845e+08</td>\n",
       "      <td>12.0</td>\n",
       "    </tr>\n",
       "  </tbody>\n",
       "</table>\n",
       "</div>"
      ],
      "text/plain": [
       "             id  runtime  vote_count  vote_average   budget_adj   revenue_adj  \\\n",
       "month                                                                           \n",
       "1      47602.83   101.03      162.15          5.81   9986382.28  2.640603e+07   \n",
       "2      47809.17   103.60      200.34          5.88  18735859.73  3.843826e+07   \n",
       "3      51885.05   103.58      280.75          5.91  22250149.10  6.597386e+07   \n",
       "4      47670.84   102.13      239.07          5.81  21325055.87  5.453006e+07   \n",
       "5      48061.62   108.27      402.74          5.94  33139312.99  1.073974e+08   \n",
       "6      46123.75   104.87      421.71          5.97  39118437.47  1.331402e+08   \n",
       "7      50696.04   103.13      394.04          5.88  32863317.85  1.026040e+08   \n",
       "8      57742.64   100.68      194.24          5.83  18696110.55  4.358289e+07   \n",
       "9      58841.49   103.64      192.66          6.06  15185905.45  3.145159e+07   \n",
       "10     61253.98   101.92      224.14          5.93  20249279.19  4.449576e+07   \n",
       "11     53600.25   101.69      343.30          5.98  32260584.17  9.676947e+07   \n",
       "12     50275.79   111.77      304.30          6.12  31778426.23  1.017845e+08   \n",
       "\n",
       "       month  \n",
       "month         \n",
       "1        1.0  \n",
       "2        2.0  \n",
       "3        3.0  \n",
       "4        4.0  \n",
       "5        5.0  \n",
       "6        6.0  \n",
       "7        7.0  \n",
       "8        8.0  \n",
       "9        9.0  \n",
       "10      10.0  \n",
       "11      11.0  \n",
       "12      12.0  "
      ]
     },
     "execution_count": 12,
     "metadata": {},
     "output_type": "execute_result"
    }
   ],
   "source": [
    "# sort by a column\n",
    "# help from: https://pandas.pydata.org/pandas-docs/stable/reference/api/pandas.DataFrame.sort_values.html\n",
    "df_month = df.groupby(df['month']).mean().round(2)\n",
    "df_month"
   ]
  },
  {
   "cell_type": "markdown",
   "metadata": {},
   "source": [
    "#### A new dataframe has been created that is sorted by month and lists the mean value for each variable."
   ]
  },
  {
   "cell_type": "code",
   "execution_count": 13,
   "metadata": {},
   "outputs": [
    {
     "data": {
      "text/html": [
       "<div>\n",
       "<style scoped>\n",
       "    .dataframe tbody tr th:only-of-type {\n",
       "        vertical-align: middle;\n",
       "    }\n",
       "\n",
       "    .dataframe tbody tr th {\n",
       "        vertical-align: top;\n",
       "    }\n",
       "\n",
       "    .dataframe thead th {\n",
       "        text-align: right;\n",
       "    }\n",
       "</style>\n",
       "<table border=\"1\" class=\"dataframe\">\n",
       "  <thead>\n",
       "    <tr style=\"text-align: right;\">\n",
       "      <th></th>\n",
       "      <th>id</th>\n",
       "      <th>runtime</th>\n",
       "      <th>vote_count</th>\n",
       "      <th>vote_average</th>\n",
       "      <th>budget_adj</th>\n",
       "      <th>revenue_adj</th>\n",
       "      <th>month</th>\n",
       "    </tr>\n",
       "  </thead>\n",
       "  <tbody>\n",
       "    <tr>\n",
       "      <th>count</th>\n",
       "      <td>394256.000000</td>\n",
       "      <td>394256.000000</td>\n",
       "      <td>394256.000000</td>\n",
       "      <td>394256.000000</td>\n",
       "      <td>3.942560e+05</td>\n",
       "      <td>3.942560e+05</td>\n",
       "      <td>394256.000000</td>\n",
       "    </tr>\n",
       "    <tr>\n",
       "      <th>mean</th>\n",
       "      <td>52328.615001</td>\n",
       "      <td>103.903981</td>\n",
       "      <td>276.823298</td>\n",
       "      <td>5.932459</td>\n",
       "      <td>2.441305e+07</td>\n",
       "      <td>6.955972e+07</td>\n",
       "      <td>6.837638</td>\n",
       "    </tr>\n",
       "    <tr>\n",
       "      <th>std</th>\n",
       "      <td>81322.046033</td>\n",
       "      <td>28.811005</td>\n",
       "      <td>681.012355</td>\n",
       "      <td>0.890308</td>\n",
       "      <td>4.125053e+07</td>\n",
       "      <td>1.733189e+08</td>\n",
       "      <td>3.425304</td>\n",
       "    </tr>\n",
       "    <tr>\n",
       "      <th>min</th>\n",
       "      <td>5.000000</td>\n",
       "      <td>0.000000</td>\n",
       "      <td>10.000000</td>\n",
       "      <td>1.500000</td>\n",
       "      <td>0.000000e+00</td>\n",
       "      <td>0.000000e+00</td>\n",
       "      <td>1.000000</td>\n",
       "    </tr>\n",
       "    <tr>\n",
       "      <th>25%</th>\n",
       "      <td>9945.000000</td>\n",
       "      <td>91.000000</td>\n",
       "      <td>19.000000</td>\n",
       "      <td>5.400000</td>\n",
       "      <td>0.000000e+00</td>\n",
       "      <td>0.000000e+00</td>\n",
       "      <td>4.000000</td>\n",
       "    </tr>\n",
       "    <tr>\n",
       "      <th>50%</th>\n",
       "      <td>16258.000000</td>\n",
       "      <td>100.000000</td>\n",
       "      <td>49.000000</td>\n",
       "      <td>6.000000</td>\n",
       "      <td>1.899489e+06</td>\n",
       "      <td>0.000000e+00</td>\n",
       "      <td>7.000000</td>\n",
       "    </tr>\n",
       "    <tr>\n",
       "      <th>75%</th>\n",
       "      <td>47474.000000</td>\n",
       "      <td>113.000000</td>\n",
       "      <td>196.000000</td>\n",
       "      <td>6.500000</td>\n",
       "      <td>3.349690e+07</td>\n",
       "      <td>5.708307e+07</td>\n",
       "      <td>10.000000</td>\n",
       "    </tr>\n",
       "    <tr>\n",
       "      <th>max</th>\n",
       "      <td>417859.000000</td>\n",
       "      <td>900.000000</td>\n",
       "      <td>9767.000000</td>\n",
       "      <td>9.200000</td>\n",
       "      <td>4.250000e+08</td>\n",
       "      <td>2.827124e+09</td>\n",
       "      <td>12.000000</td>\n",
       "    </tr>\n",
       "  </tbody>\n",
       "</table>\n",
       "</div>"
      ],
      "text/plain": [
       "                  id        runtime     vote_count   vote_average  \\\n",
       "count  394256.000000  394256.000000  394256.000000  394256.000000   \n",
       "mean    52328.615001     103.903981     276.823298       5.932459   \n",
       "std     81322.046033      28.811005     681.012355       0.890308   \n",
       "min         5.000000       0.000000      10.000000       1.500000   \n",
       "25%      9945.000000      91.000000      19.000000       5.400000   \n",
       "50%     16258.000000     100.000000      49.000000       6.000000   \n",
       "75%     47474.000000     113.000000     196.000000       6.500000   \n",
       "max    417859.000000     900.000000    9767.000000       9.200000   \n",
       "\n",
       "         budget_adj   revenue_adj          month  \n",
       "count  3.942560e+05  3.942560e+05  394256.000000  \n",
       "mean   2.441305e+07  6.955972e+07       6.837638  \n",
       "std    4.125053e+07  1.733189e+08       3.425304  \n",
       "min    0.000000e+00  0.000000e+00       1.000000  \n",
       "25%    0.000000e+00  0.000000e+00       4.000000  \n",
       "50%    1.899489e+06  0.000000e+00       7.000000  \n",
       "75%    3.349690e+07  5.708307e+07      10.000000  \n",
       "max    4.250000e+08  2.827124e+09      12.000000  "
      ]
     },
     "execution_count": 13,
     "metadata": {},
     "output_type": "execute_result"
    }
   ],
   "source": [
    "# get a statistical summary of the data \n",
    "df.describe()"
   ]
  },
  {
   "cell_type": "markdown",
   "metadata": {},
   "source": [
    "#### This summary of the data will help create new columns that categorize the budget, revenue, and vote average variables."
   ]
  },
  {
   "cell_type": "code",
   "execution_count": 14,
   "metadata": {},
   "outputs": [],
   "source": [
    "# define a function that adds a class to the dataframe\n",
    "def category(new_column, old_column):\n",
    "    df[new_column] = pd.cut(df[old_column], bin_edges, labels = bin_names)"
   ]
  },
  {
   "cell_type": "markdown",
   "metadata": {},
   "source": [
    "#### This function will allow us to create a new column in the dataframe to categorize different numerical variables."
   ]
  },
  {
   "cell_type": "code",
   "execution_count": 15,
   "metadata": {},
   "outputs": [
    {
     "data": {
      "text/html": [
       "<div>\n",
       "<style scoped>\n",
       "    .dataframe tbody tr th:only-of-type {\n",
       "        vertical-align: middle;\n",
       "    }\n",
       "\n",
       "    .dataframe tbody tr th {\n",
       "        vertical-align: top;\n",
       "    }\n",
       "\n",
       "    .dataframe thead th {\n",
       "        text-align: right;\n",
       "    }\n",
       "</style>\n",
       "<table border=\"1\" class=\"dataframe\">\n",
       "  <thead>\n",
       "    <tr style=\"text-align: right;\">\n",
       "      <th></th>\n",
       "      <th>budget_class</th>\n",
       "      <th>id</th>\n",
       "      <th>runtime</th>\n",
       "      <th>vote_count</th>\n",
       "      <th>vote_average</th>\n",
       "      <th>budget_adj</th>\n",
       "      <th>revenue_adj</th>\n",
       "      <th>month</th>\n",
       "    </tr>\n",
       "  </thead>\n",
       "  <tbody>\n",
       "    <tr>\n",
       "      <th>0</th>\n",
       "      <td>high</td>\n",
       "      <td>72753.837255</td>\n",
       "      <td>94.504596</td>\n",
       "      <td>95.791758</td>\n",
       "      <td>5.779768</td>\n",
       "      <td>6.645848e+05</td>\n",
       "      <td>8.914406e+06</td>\n",
       "      <td>5.919679</td>\n",
       "    </tr>\n",
       "    <tr>\n",
       "      <th>1</th>\n",
       "      <td>medium</td>\n",
       "      <td>43028.509207</td>\n",
       "      <td>103.721198</td>\n",
       "      <td>216.311144</td>\n",
       "      <td>5.973453</td>\n",
       "      <td>1.563778e+07</td>\n",
       "      <td>4.735905e+07</td>\n",
       "      <td>6.741342</td>\n",
       "    </tr>\n",
       "    <tr>\n",
       "      <th>2</th>\n",
       "      <td>low</td>\n",
       "      <td>27786.248917</td>\n",
       "      <td>114.685172</td>\n",
       "      <td>790.768924</td>\n",
       "      <td>6.107002</td>\n",
       "      <td>8.210074e+07</td>\n",
       "      <td>2.180974e+08</td>\n",
       "      <td>7.285026</td>\n",
       "    </tr>\n",
       "  </tbody>\n",
       "</table>\n",
       "</div>"
      ],
      "text/plain": [
       "  budget_class            id     runtime  vote_count  vote_average  \\\n",
       "0         high  72753.837255   94.504596   95.791758      5.779768   \n",
       "1       medium  43028.509207  103.721198  216.311144      5.973453   \n",
       "2          low  27786.248917  114.685172  790.768924      6.107002   \n",
       "\n",
       "     budget_adj   revenue_adj     month  \n",
       "0  6.645848e+05  8.914406e+06  5.919679  \n",
       "1  1.563778e+07  4.735905e+07  6.741342  \n",
       "2  8.210074e+07  2.180974e+08  7.285026  "
      ]
     },
     "execution_count": 15,
     "metadata": {},
     "output_type": "execute_result"
    }
   ],
   "source": [
    "# categorize as high, medium, or low budget films and store in a dataframe\n",
    "bin_edges = [0, 1899489,33496900,425000000]\n",
    "bin_names = ['high','medium', 'low']\n",
    "category('budget_class', 'budget_adj') \n",
    "budget_class = df.groupby(df['budget_class']).mean()\n",
    "budget_class = budget_class.reset_index()\n",
    "budget_class"
   ]
  },
  {
   "cell_type": "markdown",
   "metadata": {},
   "source": [
    "#### This new dataframe will be used to visualize the effects of budget on vote average."
   ]
  },
  {
   "cell_type": "code",
   "execution_count": 16,
   "metadata": {},
   "outputs": [
    {
     "data": {
      "text/html": [
       "<div>\n",
       "<style scoped>\n",
       "    .dataframe tbody tr th:only-of-type {\n",
       "        vertical-align: middle;\n",
       "    }\n",
       "\n",
       "    .dataframe tbody tr th {\n",
       "        vertical-align: top;\n",
       "    }\n",
       "\n",
       "    .dataframe thead th {\n",
       "        text-align: right;\n",
       "    }\n",
       "</style>\n",
       "<table border=\"1\" class=\"dataframe\">\n",
       "  <thead>\n",
       "    <tr style=\"text-align: right;\">\n",
       "      <th></th>\n",
       "      <th>length</th>\n",
       "      <th>id</th>\n",
       "      <th>runtime</th>\n",
       "      <th>vote_count</th>\n",
       "      <th>vote_average</th>\n",
       "      <th>budget_adj</th>\n",
       "      <th>revenue_adj</th>\n",
       "      <th>month</th>\n",
       "    </tr>\n",
       "  </thead>\n",
       "  <tbody>\n",
       "    <tr>\n",
       "      <th>0</th>\n",
       "      <td>Long</td>\n",
       "      <td>72283.548694</td>\n",
       "      <td>80.832908</td>\n",
       "      <td>116.459693</td>\n",
       "      <td>5.676421</td>\n",
       "      <td>1.045220e+07</td>\n",
       "      <td>2.825537e+07</td>\n",
       "      <td>6.701555</td>\n",
       "    </tr>\n",
       "    <tr>\n",
       "      <th>1</th>\n",
       "      <td>Moderately-Long</td>\n",
       "      <td>52614.906958</td>\n",
       "      <td>95.928172</td>\n",
       "      <td>183.395358</td>\n",
       "      <td>5.726739</td>\n",
       "      <td>1.822173e+07</td>\n",
       "      <td>4.561381e+07</td>\n",
       "      <td>6.545429</td>\n",
       "    </tr>\n",
       "    <tr>\n",
       "      <th>2</th>\n",
       "      <td>Moderately-Short</td>\n",
       "      <td>42594.599797</td>\n",
       "      <td>106.373951</td>\n",
       "      <td>265.944668</td>\n",
       "      <td>6.018104</td>\n",
       "      <td>2.480714e+07</td>\n",
       "      <td>6.265464e+07</td>\n",
       "      <td>6.812523</td>\n",
       "    </tr>\n",
       "    <tr>\n",
       "      <th>3</th>\n",
       "      <td>Short</td>\n",
       "      <td>39049.456065</td>\n",
       "      <td>135.155720</td>\n",
       "      <td>556.596295</td>\n",
       "      <td>6.336007</td>\n",
       "      <td>4.553016e+07</td>\n",
       "      <td>1.455300e+08</td>\n",
       "      <td>7.297776</td>\n",
       "    </tr>\n",
       "  </tbody>\n",
       "</table>\n",
       "</div>"
      ],
      "text/plain": [
       "             length            id     runtime  vote_count  vote_average  \\\n",
       "0              Long  72283.548694   80.832908  116.459693      5.676421   \n",
       "1   Moderately-Long  52614.906958   95.928172  183.395358      5.726739   \n",
       "2  Moderately-Short  42594.599797  106.373951  265.944668      6.018104   \n",
       "3             Short  39049.456065  135.155720  556.596295      6.336007   \n",
       "\n",
       "     budget_adj   revenue_adj     month  \n",
       "0  1.045220e+07  2.825537e+07  6.701555  \n",
       "1  1.822173e+07  4.561381e+07  6.545429  \n",
       "2  2.480714e+07  6.265464e+07  6.812523  \n",
       "3  4.553016e+07  1.455300e+08  7.297776  "
      ]
     },
     "execution_count": 16,
     "metadata": {},
     "output_type": "execute_result"
    }
   ],
   "source": [
    "# categorize as long, moderately-long, moderately-short, or short movies and store in a dataframe\n",
    "bin_edges = [0, 91,100,113,900]\n",
    "bin_names = ['Long','Moderately-Long','Moderately-Short', 'Short']\n",
    "category('length', 'runtime')\n",
    "length = df.groupby(df['length']).mean()\n",
    "length = length.reset_index()\n",
    "length"
   ]
  },
  {
   "cell_type": "markdown",
   "metadata": {},
   "source": [
    "#### This dataframe will be used to visualize the effects of runtime on vote average."
   ]
  },
  {
   "cell_type": "code",
   "execution_count": 17,
   "metadata": {},
   "outputs": [
    {
     "data": {
      "text/html": [
       "<div>\n",
       "<style scoped>\n",
       "    .dataframe tbody tr th:only-of-type {\n",
       "        vertical-align: middle;\n",
       "    }\n",
       "\n",
       "    .dataframe tbody tr th {\n",
       "        vertical-align: top;\n",
       "    }\n",
       "\n",
       "    .dataframe thead th {\n",
       "        text-align: right;\n",
       "    }\n",
       "</style>\n",
       "<table border=\"1\" class=\"dataframe\">\n",
       "  <thead>\n",
       "    <tr style=\"text-align: right;\">\n",
       "      <th></th>\n",
       "      <th>revenue_class</th>\n",
       "      <th>id</th>\n",
       "      <th>runtime</th>\n",
       "      <th>vote_count</th>\n",
       "      <th>vote_average</th>\n",
       "      <th>budget_adj</th>\n",
       "      <th>revenue_adj</th>\n",
       "      <th>month</th>\n",
       "    </tr>\n",
       "  </thead>\n",
       "  <tbody>\n",
       "    <tr>\n",
       "      <th>0</th>\n",
       "      <td>High</td>\n",
       "      <td>43089.202051</td>\n",
       "      <td>103.946768</td>\n",
       "      <td>145.285003</td>\n",
       "      <td>5.949858</td>\n",
       "      <td>1.931194e+07</td>\n",
       "      <td>1.901510e+07</td>\n",
       "      <td>6.713000</td>\n",
       "    </tr>\n",
       "    <tr>\n",
       "      <th>1</th>\n",
       "      <td>Low</td>\n",
       "      <td>29527.869071</td>\n",
       "      <td>113.439617</td>\n",
       "      <td>871.665658</td>\n",
       "      <td>6.282492</td>\n",
       "      <td>6.945834e+07</td>\n",
       "      <td>2.597543e+08</td>\n",
       "      <td>7.200784</td>\n",
       "    </tr>\n",
       "  </tbody>\n",
       "</table>\n",
       "</div>"
      ],
      "text/plain": [
       "  revenue_class            id     runtime  vote_count  vote_average  \\\n",
       "0          High  43089.202051  103.946768  145.285003      5.949858   \n",
       "1           Low  29527.869071  113.439617  871.665658      6.282492   \n",
       "\n",
       "     budget_adj   revenue_adj     month  \n",
       "0  1.931194e+07  1.901510e+07  6.713000  \n",
       "1  6.945834e+07  2.597543e+08  7.200784  "
      ]
     },
     "execution_count": 17,
     "metadata": {},
     "output_type": "execute_result"
    }
   ],
   "source": [
    "# categorize as high or low revenue movies and store in a dataframe\n",
    "bin_edges = [0, 57083070,2827124000]\n",
    "bin_names = ['High','Low']\n",
    "category('revenue_class', 'revenue_adj')\n",
    "revenue_class = df.groupby(df['revenue_class']).mean()\n",
    "revenue_class = revenue_class.reset_index()\n",
    "revenue_class"
   ]
  },
  {
   "cell_type": "markdown",
   "metadata": {},
   "source": [
    "#### This dataframe will be used to show the effects of revenue on runtime."
   ]
  },
  {
   "cell_type": "markdown",
   "metadata": {},
   "source": [
    "<a id='eda'></a>\n",
    "## Exploratory Data Analysis\n",
    "\n",
    "\n",
    "\n",
    "### 1. How are the different numerical features distributed?\n",
    "\n",
    "Knowing the distribution of each will be able to help us determine if there are any features that have extreme outliers that need to be manipulated."
   ]
  },
  {
   "cell_type": "code",
   "execution_count": 18,
   "metadata": {},
   "outputs": [
    {
     "data": {
      "image/png": "[encoded data removed]",
      "text/plain": [
       "<Figure size 1440x720 with 4 Axes>"
      ]
     },
     "metadata": {
      "needs_background": "light"
     },
     "output_type": "display_data"
    }
   ],
   "source": [
    "#create a histogram for each variable to show its distribution \n",
    "df.hist(column = ['runtime', 'budget_adj', 'revenue_adj'], sharey = True, figsize = (20,10));"
   ]
  },
  {
   "cell_type": "markdown",
   "metadata": {},
   "source": [
    "#### Each of these subplots represents a single variable exploration of 3 different features. We can see that the 3 features above are skewed to the right suggesting that there are outliers in the data.  This suggests that we may need to remove or manipulte further some of the data if we are making a regression line to predict voter rating."
   ]
  },
  {
   "cell_type": "markdown",
   "metadata": {},
   "source": [
    "### 2. Do any of the features have correlations with vote_average?"
   ]
  },
  {
   "cell_type": "code",
   "execution_count": 19,
   "metadata": {},
   "outputs": [
    {
     "data": {
      "image/png": "[encoded data removed]",
      "text/plain": [
       "<Figure size 432x288 with 1 Axes>"
      ]
     },
     "metadata": {
      "needs_background": "light"
     },
     "output_type": "display_data"
    }
   ],
   "source": [
    "# scatterplot of runtime vs. vote average\n",
    "df.plot(x = 'runtime', y = 'vote_average', kind = 'scatter', color = 'olive');"
   ]
  },
  {
   "cell_type": "markdown",
   "metadata": {},
   "source": [
    "#### The scatterplot above indicates that there is not a strong correlation between vote_average and runtime."
   ]
  },
  {
   "cell_type": "code",
   "execution_count": 20,
   "metadata": {},
   "outputs": [
    {
     "data": {
      "image/png": "[encoded data removed]",
      "text/plain": [
       "<Figure size 1440x360 with 1 Axes>"
      ]
     },
     "metadata": {
      "needs_background": "light"
     },
     "output_type": "display_data"
    }
   ],
   "source": [
    "# bar chart showing statistical summary of length vs rating\n",
    "plt.figure(figsize = (20,5))\n",
    "plt.grid()\n",
    "plt.bar(length['length'], length['vote_average'], color = 'olive', width = .8)\n",
    "plt.xlabel('Length of Movie')\n",
    "plt.ylabel('Average Voter Rating')\n",
    "plt.title('Length of Movie vs. Average Voter Rating');"
   ]
  },
  {
   "cell_type": "markdown",
   "metadata": {},
   "source": [
    "#### The graphs shows a trend that the shorter the movie, the higher the average vote is.  "
   ]
  },
  {
   "cell_type": "code",
   "execution_count": 21,
   "metadata": {},
   "outputs": [
    {
     "data": {
      "image/png": "[encoded data removed]",
      "text/plain": [
       "<Figure size 432x288 with 1 Axes>"
      ]
     },
     "metadata": {
      "needs_background": "light"
     },
     "output_type": "display_data"
    }
   ],
   "source": [
    "# scatterplot of adjusted budget vs. vote average\n",
    "df.plot(x = 'budget_adj', y = 'vote_average', kind = 'scatter', color = 'orange');"
   ]
  },
  {
   "cell_type": "markdown",
   "metadata": {},
   "source": [
    "#### The scatterplot above indicates that there is not a strong correlation between vote_average and budget."
   ]
  },
  {
   "cell_type": "code",
   "execution_count": 22,
   "metadata": {},
   "outputs": [
    {
     "data": {
      "image/png": "[encoded data removed]",
      "text/plain": [
       "<Figure size 1080x360 with 1 Axes>"
      ]
     },
     "metadata": {
      "needs_background": "light"
     },
     "output_type": "display_data"
    }
   ],
   "source": [
    "# bar chart showing statistical summary of budget vs rating\n",
    "plt.figure(figsize = (15,5))\n",
    "plt.grid()\n",
    "plt.bar(budget_class['budget_class'], budget_class['vote_average'], color = 'orange', width = .8)\n",
    "plt.xlabel('Cost of Movie')\n",
    "plt.ylabel('Average Voter Rating')\n",
    "plt.title('Cost of Movie vs. Average Voter Rating');"
   ]
  },
  {
   "cell_type": "markdown",
   "metadata": {},
   "source": [
    "#### The graphs shows a trend that the more expensive the movie, the higher the average vote is.  "
   ]
  },
  {
   "cell_type": "code",
   "execution_count": 23,
   "metadata": {},
   "outputs": [
    {
     "data": {
      "image/png": "[encoded data removed]",
      "text/plain": [
       "<Figure size 432x288 with 1 Axes>"
      ]
     },
     "metadata": {
      "needs_background": "light"
     },
     "output_type": "display_data"
    }
   ],
   "source": [
    "# scatterplot of adjusted revenue vs. vote average\n",
    "df.plot(x = 'revenue_adj', y = 'vote_average', kind = 'scatter', color = 'blue');"
   ]
  },
  {
   "cell_type": "markdown",
   "metadata": {},
   "source": [
    "#### The scatterplot above indicates that there is not a strong correlation between vote_average and budget."
   ]
  },
  {
   "cell_type": "code",
   "execution_count": 24,
   "metadata": {},
   "outputs": [
    {
     "data": {
      "image/png": "[encoded data removed]",
      "text/plain": [
       "<Figure size 720x360 with 1 Axes>"
      ]
     },
     "metadata": {
      "needs_background": "light"
     },
     "output_type": "display_data"
    }
   ],
   "source": [
    "# bar chart showing statistical summary of revenues vs rating\n",
    "plt.figure(figsize = (10,5))\n",
    "plt.grid()\n",
    "plt.bar(revenue_class['revenue_class'], revenue_class['vote_average'], color = 'blue', width = .8)\n",
    "plt.xlabel('Revnues')\n",
    "plt.ylabel('Average Voter Rating')\n",
    "plt.title('Revenues vs. Average Voter Rating');"
   ]
  },
  {
   "cell_type": "markdown",
   "metadata": {},
   "source": [
    "#### The graphs shows a trend that the more revenues the movie brings in, the higher the average vote is.  "
   ]
  },
  {
   "cell_type": "markdown",
   "metadata": {},
   "source": [
    "### It does not appear that there is a strong linear relationship between the three numerical variables and voter rating.\n"
   ]
  },
  {
   "cell_type": "code",
   "execution_count": 25,
   "metadata": {},
   "outputs": [
    {
     "data": {
      "image/png": "[encoded data removed]",
      "text/plain": [
       "<Figure size 432x288 with 2 Axes>"
      ]
     },
     "metadata": {
      "needs_background": "light"
     },
     "output_type": "display_data"
    }
   ],
   "source": [
    "#correlation matrix for the different variables in the dataframe\n",
    "#used seaborn to make heatmap: https://seaborn.pydata.org/generated/seaborn.heatmap.html\n",
    "correlation = df.corr()\n",
    "correlation = sns.heatmap(correlation, annot = True)\n",
    "correlation;"
   ]
  },
  {
   "cell_type": "markdown",
   "metadata": {},
   "source": [
    "#### Looking at the table above, we can see that vote_average has a low correlation with runtime, budget_adj, and revenue_adj.  This indicates that these variables may not individually contribute much to the user's opinion.  Further tests are required to determine if together they are good variables to predict user opinion."
   ]
  },
  {
   "cell_type": "markdown",
   "metadata": {},
   "source": [
    "### 3. Are there differences in ratings in different months?"
   ]
  },
  {
   "cell_type": "code",
   "execution_count": 26,
   "metadata": {
    "scrolled": true
   },
   "outputs": [
    {
     "data": {
      "image/png": "[encoded data removed]",
      "text/plain": [
       "<Figure size 1080x360 with 1 Axes>"
      ]
     },
     "metadata": {
      "needs_background": "light"
     },
     "output_type": "display_data"
    }
   ],
   "source": [
    "# bar chart of average rating for each month\n",
    "months = ['January', 'February', 'March', 'April', 'May', 'June', 'July', 'August', 'September', 'October', 'November', 'December']\n",
    "plt.figure(figsize = (15,5))\n",
    "plt.grid()\n",
    "plt.bar(months, df_month['vote_average'], color = 'red', width = .8)\n",
    "plt.xlabel('Month')\n",
    "plt.ylabel('Average Voter Rating')\n",
    "plt.title('Average Voter Rating for Each Month');"
   ]
  },
  {
   "cell_type": "markdown",
   "metadata": {},
   "source": [
    "#### The graph above shows that December has the highest average vote.  "
   ]
  },
  {
   "cell_type": "markdown",
   "metadata": {},
   "source": [
    "### 4. What genre has the highest rating?"
   ]
  },
  {
   "cell_type": "code",
   "execution_count": 27,
   "metadata": {},
   "outputs": [
    {
     "data": {
      "image/png": "[encoded data removed]",
      "text/plain": [
       "<Figure size 1440x360 with 1 Axes>"
      ]
     },
     "metadata": {
      "needs_background": "light"
     },
     "output_type": "display_data"
    }
   ],
   "source": [
    "#bar chart showing genre\n",
    "plt.figure(figsize = (20,5))\n",
    "plt.grid()\n",
    "plt.bar(genres['genres'], genres['vote_average'], color = 'purple', width = .8)\n",
    "plt.xlabel('Genre')\n",
    "plt.ylabel('Average Voter Rating')\n",
    "plt.title('Genre vs. Average Voter Rating');"
   ]
  },
  {
   "cell_type": "markdown",
   "metadata": {},
   "source": [
    "#### Looking at this graph, it appears that December has the highest average rating.  The cause of this could be many things, and more tests are needed to identify what they are."
   ]
  },
  {
   "cell_type": "markdown",
   "metadata": {},
   "source": [
    "<a id='conclusions'></a>\n",
    "## Conclusions\n",
    "\n",
    "> One thing to note above is that there seems to be a correlation between the voter rating and three of the variables.  Looking at the graph titled \"Length of Movie vs. Average Voter Rating\", we can see that the longer the movie is, the lower the average rating.  Looking at the graph titled \"Cost of Movie vs. Average Voter Rating\", we can see that the lower budget movies had the highest average rating.  Looking at the graph titled \"Revenues vs. Average Voter Rating\" we can see that lower revenues are linked to higher average rating.  There could be several reasons that this could happen, and more tests need to be done to determine if this is just a correlation or if these variables actually cause the voter to trend the way it does in those graphs. Another conclusion to make is that it appears that December has the highest average voter rating.  Another thing to note is that documentaries have the highest average rating.\n",
    "\n",
    "<a id='conclusions'></a>\n",
    "### Limitations\n",
    "\n",
    "> The main limitation of this analysis is that it only identifies trends, and it does not identify the cause of the trend.  For example, we can see that movies released in December receive the highest average rating, but we do not know if that is because the movie was released in December, because people were happier due to the holiday season, or for some other reason.  Another limitation is that I may have deleted some of the columns that contribute to a high voter rating.  Cast, director, and production company could also factor in.  This analysis is only descriptive, and inferences should not be made."
   ]
  },
  {
   "cell_type": "code",
   "execution_count": null,
   "metadata": {},
   "outputs": [],
   "source": []
  }
 ],
 "metadata": {
  "kernelspec": {
   "display_name": "Python 3",
   "language": "python",
   "name": "python3"
  },
  "language_info": {
   "codemirror_mode": {
    "name": "ipython",
    "version": 3
   },
   "file_extension": ".py",
   "mimetype": "text/x-python",
   "name": "python",
   "nbconvert_exporter": "python",
   "pygments_lexer": "ipython3",
   "version": "3.7.3"
  }
 },
 "nbformat": 4,
 "nbformat_minor": 2
}
